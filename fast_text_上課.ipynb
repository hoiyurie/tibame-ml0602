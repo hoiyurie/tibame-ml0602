{
  "nbformat": 4,
  "nbformat_minor": 0,
  "metadata": {
    "colab": {
      "name": "fast_text_上課.ipynb",
      "provenance": [],
      "include_colab_link": true
    },
    "kernelspec": {
      "name": "python3",
      "display_name": "Python 3"
    },
    "accelerator": "GPU"
  },
  "cells": [
    {
      "cell_type": "markdown",
      "metadata": {
        "id": "view-in-github",
        "colab_type": "text"
      },
      "source": [
        "<a href=\"https://colab.research.google.com/github/hoiyurie/tibame-ml0602/blob/main/fast_text_%E4%B8%8A%E8%AA%B2.ipynb\" target=\"_parent\"><img src=\"https://colab.research.google.com/assets/colab-badge.svg\" alt=\"Open In Colab\"/></a>"
      ]
    },
    {
      "cell_type": "code",
      "metadata": {
        "id": "HkZo-KWNetI4",
        "colab": {
          "base_uri": "https://localhost:8080/"
        },
        "outputId": "b5b0116e-2070-4c93-c4ba-1356677469f1"
      },
      "source": [
        "# 下載fasttext千錘百鍊預訓練好的詞向量\n",
        "!wget https://dl.fbaipublicfiles.com/fasttext/vectors-crawl/cc.zh.300.bin.gz\n",
        "!gunzip cc.zh.300.bin.gz"
      ],
      "execution_count": 1,
      "outputs": [
        {
          "output_type": "stream",
          "text": [
            "--2021-07-15 06:54:33--  https://dl.fbaipublicfiles.com/fasttext/vectors-crawl/cc.zh.300.bin.gz\n",
            "Resolving dl.fbaipublicfiles.com (dl.fbaipublicfiles.com)... 104.22.75.142, 104.22.74.142, 172.67.9.4, ...\n",
            "Connecting to dl.fbaipublicfiles.com (dl.fbaipublicfiles.com)|104.22.75.142|:443... connected.\n",
            "HTTP request sent, awaiting response... 200 OK\n",
            "Length: 4478681770 (4.2G) [application/octet-stream]\n",
            "Saving to: ‘cc.zh.300.bin.gz.1’\n",
            "\n",
            "cc.zh.300.bin.gz.1  100%[===================>]   4.17G  28.0MB/s    in 82s     \n",
            "\n",
            "2021-07-15 06:55:55 (52.2 MB/s) - ‘cc.zh.300.bin.gz.1’ saved [4478681770/4478681770]\n",
            "\n"
          ],
          "name": "stdout"
        }
      ]
    },
    {
      "cell_type": "code",
      "metadata": {
        "id": "eVlV9SjqgWFS"
      },
      "source": [
        "from gensim.models.fasttext import FastText\n",
        "model = FastText.load_fasttext_format('cc.zh.300.bin')"
      ],
      "execution_count": null,
      "outputs": []
    },
    {
      "cell_type": "code",
      "metadata": {
        "id": "weRojINDubAO"
      },
      "source": [
        "import warnings\n",
        "warnings.filterwarnings(\"ignore\", category=FutureWarning)"
      ],
      "execution_count": null,
      "outputs": []
    },
    {
      "cell_type": "code",
      "metadata": {
        "id": "laoDFP6-Lr4l"
      },
      "source": [
        "# 我們的模型裡面有多少個詞\n",
        "len(model.wv.vocab)"
      ],
      "execution_count": null,
      "outputs": []
    },
    {
      "cell_type": "code",
      "metadata": {
        "id": "Wue-ACwcDKmh"
      },
      "source": [
        "word = \"\\u5468\\u6770\\u502B\"#@param {type:\"string\"}\n",
        "print(word, \"長這樣:\")\n",
        "model.wv[word]"
      ],
      "execution_count": null,
      "outputs": []
    },
    {
      "cell_type": "code",
      "metadata": {
        "id": "QdjjywfL8GTq"
      },
      "source": [
        "#@title 找出相似詞!!!\n",
        "\n",
        "text = '\\u798F\\u539F\\u611B' #@param {type:\"string\"}\n",
        "model.wv.most_similar(text)"
      ],
      "execution_count": null,
      "outputs": []
    },
    {
      "cell_type": "code",
      "metadata": {
        "id": "4Pj8XhJoLWDA"
      },
      "source": [
        "\"轉蛋\" in model.wv.vocab"
      ],
      "execution_count": null,
      "outputs": []
    },
    {
      "cell_type": "code",
      "metadata": {
        "id": "lJORaH4JNzDS"
      },
      "source": [
        "#@title 比較兩個特定詞的相似度\n",
        "\n",
        "text1 = '\\u8AB2\\u91D1' #@param {type:\"string\"}\n",
        "text2 = '\\u8F49\\u86CB' #@param {type:\"string\"}\n",
        "model.wv.similarity(text1, text2)"
      ],
      "execution_count": null,
      "outputs": []
    },
    {
      "cell_type": "code",
      "metadata": {
        "id": "A3m66PlJJzgo"
      },
      "source": [
        "#@title 找到不是同一掛的詞\n",
        "\n",
        "text1 = '\\u5468\\u6770\\u502B' #@param {type:\"string\"}\n",
        "text2 = '\\u856D\\u656C\\u9A30' #@param {type:\"string\"}\n",
        "text3 = '\\u76E7\\u5EE3\\u4EF2' #@param {type:\"string\"}\n",
        "text4 = '\\u8521\\u4F9D\\u6797' #@param {type:\"string\"}\n",
        "\n",
        "notmatch = model.wv.doesnt_match([text1, text2, text3, text4])\n",
        "print(\"不是同一掛的:\", notmatch)"
      ],
      "execution_count": null,
      "outputs": []
    },
    {
      "cell_type": "code",
      "metadata": {
        "id": "i2kMoj47KTl1"
      },
      "source": [
        "#@title 給電腦做智力測驗(詞1 - 詞3 = ? - 詞2)\n",
        "\n",
        "# text1 + text2 - text3 = ?\n",
        "# text1 - text3 = ? - text2\n",
        "text1 = '\\u501A\\u5929\\u5C60\\u9F8D\\u8A18' #@param {type:\"string\"}\n",
        "text2 = '\\u674E\\u767D' #@param {type:\"string\"}\n",
        "text3 = '\\u91D1\\u5EB8' #@param {type:\"string\"}\n",
        "question = model.wv.most_similar(positive=[text1, text2], negative=[text3])\n",
        "print(text1, \"-\", text3, \"=\", \"?\", \"-\", text2)\n",
        "question"
      ],
      "execution_count": null,
      "outputs": []
    },
    {
      "cell_type": "code",
      "metadata": {
        "id": "TguMjAi-NZDY"
      },
      "source": [
        "text1 = '\\u5E25\\u54E5' #@param {type:\"string\"}\n",
        "text3 = '\\u7537' #@param {type:\"string\"}\n",
        "question = model.wv.most_similar(positive=[text1], negative=[text3])\n",
        "question"
      ],
      "execution_count": null,
      "outputs": []
    },
    {
      "cell_type": "code",
      "metadata": {
        "id": "gi-SM9U21jvW"
      },
      "source": [
        "text = \"周凡剛\"\n",
        "print(\"machine-washabled有在字典裡?\", text in model.wv.vocab)\n",
        "model.wv.most_similar(text)"
      ],
      "execution_count": null,
      "outputs": []
    }
  ]
}