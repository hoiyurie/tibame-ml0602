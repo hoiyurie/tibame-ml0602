{
  "nbformat": 4,
  "nbformat_minor": 0,
  "metadata": {
    "colab": {
      "name": "titanic.ipynb",
      "provenance": [],
      "authorship_tag": "ABX9TyO0/HM48othYKjVF4mbdyuq",
      "include_colab_link": true
    },
    "kernelspec": {
      "name": "python3",
      "display_name": "Python 3"
    },
    "language_info": {
      "name": "python"
    }
  },
  "cells": [
    {
      "cell_type": "markdown",
      "metadata": {
        "id": "view-in-github",
        "colab_type": "text"
      },
      "source": [
        "<a href=\"https://colab.research.google.com/github/hoiyurie/tibame-ml0602/blob/main/titanic.ipynb\" target=\"_parent\"><img src=\"https://colab.research.google.com/assets/colab-badge.svg\" alt=\"Open In Colab\"/></a>"
      ]
    },
    {
      "cell_type": "code",
      "metadata": {
        "colab": {
          "base_uri": "https://localhost:8080/"
        },
        "id": "ouOp763fpXkf",
        "outputId": "bcab08d4-e636-44e8-e075-2387e1fb2529"
      },
      "source": [
        "from urllib.request import urlretrieve\n",
        "url = \"https://github.com/hoiyurie/tibame-ml0602/raw/main/titanic/train.csv\"\n",
        "urlretrieve(url,\"train.csv\")\n",
        "url = \"https://github.com/hoiyurie/tibame-ml0602/raw/main/titanic/test.csv\"\n",
        "urlretrieve(url,\"test.csv\")\n"
      ],
      "execution_count": 36,
      "outputs": [
        {
          "output_type": "execute_result",
          "data": {
            "text/plain": [
              "('test.csv', <http.client.HTTPMessage at 0x7fc3f954f4d0>)"
            ]
          },
          "metadata": {
            "tags": []
          },
          "execution_count": 36
        }
      ]
    },
    {
      "cell_type": "code",
      "metadata": {
        "id": "hqCmCX_zSSv5"
      },
      "source": [
        "import pandas as pd\n",
        "train_df = pd.read_csv(\"train.csv\",encoding=\"utf-8\")\n",
        "test_df = pd.read_csv(\"test.csv\",encoding=\"utf-8\")"
      ],
      "execution_count": 37,
      "outputs": []
    },
    {
      "cell_type": "code",
      "metadata": {
        "colab": {
          "base_uri": "https://localhost:8080/",
          "height": 864
        },
        "id": "-Qb0OtH-Pet9",
        "outputId": "89e02125-6fd4-4485-c7eb-5f54d2dea1d8"
      },
      "source": [
        "# 先把train data 和test data 兩個表格連結起來\n",
        "data = pd.concat([train_df, test_df],ignore_index = True) # ingnore_index = True 重置合併後的index\n",
        "data = data.drop([\"PassengerId\",\"Survived\"], axis = 1)\n",
        "data"
      ],
      "execution_count": 38,
      "outputs": [
        {
          "output_type": "execute_result",
          "data": {
            "text/html": [
              "<div>\n",
              "<style scoped>\n",
              "    .dataframe tbody tr th:only-of-type {\n",
              "        vertical-align: middle;\n",
              "    }\n",
              "\n",
              "    .dataframe tbody tr th {\n",
              "        vertical-align: top;\n",
              "    }\n",
              "\n",
              "    .dataframe thead th {\n",
              "        text-align: right;\n",
              "    }\n",
              "</style>\n",
              "<table border=\"1\" class=\"dataframe\">\n",
              "  <thead>\n",
              "    <tr style=\"text-align: right;\">\n",
              "      <th></th>\n",
              "      <th>Pclass</th>\n",
              "      <th>Name</th>\n",
              "      <th>Sex</th>\n",
              "      <th>Age</th>\n",
              "      <th>SibSp</th>\n",
              "      <th>Parch</th>\n",
              "      <th>Ticket</th>\n",
              "      <th>Fare</th>\n",
              "      <th>Cabin</th>\n",
              "      <th>Embarked</th>\n",
              "    </tr>\n",
              "  </thead>\n",
              "  <tbody>\n",
              "    <tr>\n",
              "      <th>0</th>\n",
              "      <td>3</td>\n",
              "      <td>Braund, Mr. Owen Harris</td>\n",
              "      <td>male</td>\n",
              "      <td>22.0</td>\n",
              "      <td>1</td>\n",
              "      <td>0</td>\n",
              "      <td>A/5 21171</td>\n",
              "      <td>7.2500</td>\n",
              "      <td>NaN</td>\n",
              "      <td>S</td>\n",
              "    </tr>\n",
              "    <tr>\n",
              "      <th>1</th>\n",
              "      <td>1</td>\n",
              "      <td>Cumings, Mrs. John Bradley (Florence Briggs Th...</td>\n",
              "      <td>female</td>\n",
              "      <td>38.0</td>\n",
              "      <td>1</td>\n",
              "      <td>0</td>\n",
              "      <td>PC 17599</td>\n",
              "      <td>71.2833</td>\n",
              "      <td>C85</td>\n",
              "      <td>C</td>\n",
              "    </tr>\n",
              "    <tr>\n",
              "      <th>2</th>\n",
              "      <td>3</td>\n",
              "      <td>Heikkinen, Miss. Laina</td>\n",
              "      <td>female</td>\n",
              "      <td>26.0</td>\n",
              "      <td>0</td>\n",
              "      <td>0</td>\n",
              "      <td>STON/O2. 3101282</td>\n",
              "      <td>7.9250</td>\n",
              "      <td>NaN</td>\n",
              "      <td>S</td>\n",
              "    </tr>\n",
              "    <tr>\n",
              "      <th>3</th>\n",
              "      <td>1</td>\n",
              "      <td>Futrelle, Mrs. Jacques Heath (Lily May Peel)</td>\n",
              "      <td>female</td>\n",
              "      <td>35.0</td>\n",
              "      <td>1</td>\n",
              "      <td>0</td>\n",
              "      <td>113803</td>\n",
              "      <td>53.1000</td>\n",
              "      <td>C123</td>\n",
              "      <td>S</td>\n",
              "    </tr>\n",
              "    <tr>\n",
              "      <th>4</th>\n",
              "      <td>3</td>\n",
              "      <td>Allen, Mr. William Henry</td>\n",
              "      <td>male</td>\n",
              "      <td>35.0</td>\n",
              "      <td>0</td>\n",
              "      <td>0</td>\n",
              "      <td>373450</td>\n",
              "      <td>8.0500</td>\n",
              "      <td>NaN</td>\n",
              "      <td>S</td>\n",
              "    </tr>\n",
              "    <tr>\n",
              "      <th>...</th>\n",
              "      <td>...</td>\n",
              "      <td>...</td>\n",
              "      <td>...</td>\n",
              "      <td>...</td>\n",
              "      <td>...</td>\n",
              "      <td>...</td>\n",
              "      <td>...</td>\n",
              "      <td>...</td>\n",
              "      <td>...</td>\n",
              "      <td>...</td>\n",
              "    </tr>\n",
              "    <tr>\n",
              "      <th>1304</th>\n",
              "      <td>3</td>\n",
              "      <td>Spector, Mr. Woolf</td>\n",
              "      <td>male</td>\n",
              "      <td>NaN</td>\n",
              "      <td>0</td>\n",
              "      <td>0</td>\n",
              "      <td>A.5. 3236</td>\n",
              "      <td>8.0500</td>\n",
              "      <td>NaN</td>\n",
              "      <td>S</td>\n",
              "    </tr>\n",
              "    <tr>\n",
              "      <th>1305</th>\n",
              "      <td>1</td>\n",
              "      <td>Oliva y Ocana, Dona. Fermina</td>\n",
              "      <td>female</td>\n",
              "      <td>39.0</td>\n",
              "      <td>0</td>\n",
              "      <td>0</td>\n",
              "      <td>PC 17758</td>\n",
              "      <td>108.9000</td>\n",
              "      <td>C105</td>\n",
              "      <td>C</td>\n",
              "    </tr>\n",
              "    <tr>\n",
              "      <th>1306</th>\n",
              "      <td>3</td>\n",
              "      <td>Saether, Mr. Simon Sivertsen</td>\n",
              "      <td>male</td>\n",
              "      <td>38.5</td>\n",
              "      <td>0</td>\n",
              "      <td>0</td>\n",
              "      <td>SOTON/O.Q. 3101262</td>\n",
              "      <td>7.2500</td>\n",
              "      <td>NaN</td>\n",
              "      <td>S</td>\n",
              "    </tr>\n",
              "    <tr>\n",
              "      <th>1307</th>\n",
              "      <td>3</td>\n",
              "      <td>Ware, Mr. Frederick</td>\n",
              "      <td>male</td>\n",
              "      <td>NaN</td>\n",
              "      <td>0</td>\n",
              "      <td>0</td>\n",
              "      <td>359309</td>\n",
              "      <td>8.0500</td>\n",
              "      <td>NaN</td>\n",
              "      <td>S</td>\n",
              "    </tr>\n",
              "    <tr>\n",
              "      <th>1308</th>\n",
              "      <td>3</td>\n",
              "      <td>Peter, Master. Michael J</td>\n",
              "      <td>male</td>\n",
              "      <td>NaN</td>\n",
              "      <td>1</td>\n",
              "      <td>1</td>\n",
              "      <td>2668</td>\n",
              "      <td>22.3583</td>\n",
              "      <td>NaN</td>\n",
              "      <td>C</td>\n",
              "    </tr>\n",
              "  </tbody>\n",
              "</table>\n",
              "<p>1309 rows × 10 columns</p>\n",
              "</div>"
            ],
            "text/plain": [
              "      Pclass                                               Name  ... Cabin  Embarked\n",
              "0          3                            Braund, Mr. Owen Harris  ...   NaN         S\n",
              "1          1  Cumings, Mrs. John Bradley (Florence Briggs Th...  ...   C85         C\n",
              "2          3                             Heikkinen, Miss. Laina  ...   NaN         S\n",
              "3          1       Futrelle, Mrs. Jacques Heath (Lily May Peel)  ...  C123         S\n",
              "4          3                           Allen, Mr. William Henry  ...   NaN         S\n",
              "...      ...                                                ...  ...   ...       ...\n",
              "1304       3                                 Spector, Mr. Woolf  ...   NaN         S\n",
              "1305       1                       Oliva y Ocana, Dona. Fermina  ...  C105         C\n",
              "1306       3                       Saether, Mr. Simon Sivertsen  ...   NaN         S\n",
              "1307       3                                Ware, Mr. Frederick  ...   NaN         S\n",
              "1308       3                           Peter, Master. Michael J  ...   NaN         C\n",
              "\n",
              "[1309 rows x 10 columns]"
            ]
          },
          "metadata": {
            "tags": []
          },
          "execution_count": 38
        }
      ]
    },
    {
      "cell_type": "code",
      "metadata": {
        "colab": {
          "base_uri": "https://localhost:8080/"
        },
        "id": "XWDzGRvhQa3U",
        "outputId": "6be9d802-07fa-437a-af6b-f5aa3d629a9e"
      },
      "source": [
        "# 查看空值 data.isna（）\n",
        "# 查看空值總數 data.isna().sum()\n",
        "# 對Series做篩選[帶入跟你的資料筆數一樣多True/False list]\n",
        "\n",
        "na = data.isna().sum()\n",
        "na[na>0].sort_values(ascending= False) # ascending = False \n",
        "\n"
      ],
      "execution_count": 39,
      "outputs": [
        {
          "output_type": "execute_result",
          "data": {
            "text/plain": [
              "Cabin       1014\n",
              "Age          263\n",
              "Embarked       2\n",
              "Fare           1\n",
              "dtype: int64"
            ]
          },
          "metadata": {
            "tags": []
          },
          "execution_count": 39
        }
      ]
    },
    {
      "cell_type": "code",
      "metadata": {
        "id": "vYomkU8bS6Xn"
      },
      "source": [
        "# # apply \n",
        "\n",
        "# s = pd.Series([1,2,3])\n",
        "# def func(n):\n",
        "#   return n * n \n",
        "# s.apply(func)\n",
        "\n",
        "\n",
        "# # lambda = def \n",
        "# # 多行 def\n",
        "# # 少數幾行 lambda\n",
        "\n",
        "# s= pd.Series([1, 2, 3])\n",
        "# def func(n):\n",
        "#   return n * n\n",
        "# s.apply(lambda n:n*3)\n",
        "\n",
        "\n",
        "# # 可以直接寫成\n",
        "# s= pd.Series([1, 2, 3])\n",
        "# s.apply(lambda n:n*3)\n"
      ],
      "execution_count": 40,
      "outputs": []
    },
    {
      "cell_type": "code",
      "metadata": {
        "id": "rv075dm_U_ad"
      },
      "source": [
        "# 先處理一些數據：\n",
        "\n",
        "#Cabin 取出首字母，可能代表艙位等級\n",
        "\n",
        "def cabin_head(s):\n",
        "  if not pd.isna(s):\n",
        "    return s[0]\n",
        "  # else:\n",
        "  #   return s  # 回傳NAN\n",
        "\n",
        "data[\"Cabin\"] = data[\"Cabin\"].apply(cabin_head)\n"
      ],
      "execution_count": 41,
      "outputs": []
    },
    {
      "cell_type": "code",
      "metadata": {
        "id": "BHHdZUiFWR4k"
      },
      "source": [
        "# Ticket 可以看出同行人數\n",
        "\n",
        "dic = data[\"Ticket\"].value_counts()\n",
        "data[\"Ticket\"] = data[\"Ticket\"].apply(lambda t:dic[t])"
      ],
      "execution_count": 42,
      "outputs": []
    },
    {
      "cell_type": "code",
      "metadata": {
        "colab": {
          "base_uri": "https://localhost:8080/"
        },
        "id": "OrKdOs6MX_UE",
        "outputId": "0a67ca03-9265-4c48-aaf4-6b3f02bc022a"
      },
      "source": [
        "# 補缺失值（類別：最常出現）\n",
        "# ！！！如果有一堆測試資料，不要重新算，直接補S)\n",
        "\n",
        "# Embarked  登船點--> 補成 最多人使用的登船點\n",
        "# data[\"Embarked\"]\n",
        "most = data[\"Embarked\"].value_counts().idxmax # idxmax 最大值的索引\n",
        "data[\"Embarked\"] = data[\"Embarked\"].fillna(most)\n",
        "na = data.isna().sum()\n",
        "na[na > 0].sort_values(ascending = False)\n"
      ],
      "execution_count": 50,
      "outputs": [
        {
          "output_type": "execute_result",
          "data": {
            "text/plain": [
              "Cabin    1014\n",
              "Age       263\n",
              "Fare        1\n",
              "dtype: int64"
            ]
          },
          "metadata": {
            "tags": []
          },
          "execution_count": 50
        }
      ]
    }
  ]
}