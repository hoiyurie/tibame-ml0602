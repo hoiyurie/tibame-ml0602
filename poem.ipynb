{
  "nbformat": 4,
  "nbformat_minor": 0,
  "metadata": {
    "colab": {
      "name": "poem.ipynb",
      "provenance": [],
      "collapsed_sections": [],
      "authorship_tag": "ABX9TyNIIQ/u5G4AIYPQ4wDIoS5Y",
      "include_colab_link": true
    },
    "kernelspec": {
      "name": "python3",
      "display_name": "Python 3"
    },
    "language_info": {
      "name": "python"
    }
  },
  "cells": [
    {
      "cell_type": "markdown",
      "metadata": {
        "id": "view-in-github",
        "colab_type": "text"
      },
      "source": [
        "<a href=\"https://colab.research.google.com/github/hoiyurie/tibame-ml0602/blob/main/poem.ipynb\" target=\"_parent\"><img src=\"https://colab.research.google.com/assets/colab-badge.svg\" alt=\"Open In Colab\"/></a>"
      ]
    },
    {
      "cell_type": "code",
      "metadata": {
        "colab": {
          "base_uri": "https://localhost:8080/"
        },
        "id": "zxVsvDeXyFwT",
        "outputId": "23b325f4-13ef-48a3-fe56-b9e5f3d2238c"
      },
      "source": [
        "import jieba\n",
        "from urllib.request import urlretrieve\n",
        "url = \"https://github.com/Elwing-Chou/ml0602/raw/main/poem_test.csv\"\n",
        "urlretrieve(url, \"test.csv\")\n",
        "url = \"https://github.com/Elwing-Chou/ml0602/raw/main/poem_train.csv\"\n",
        "urlretrieve(url, \"train.csv\")\n"
      ],
      "execution_count": 1,
      "outputs": [
        {
          "output_type": "execute_result",
          "data": {
            "text/plain": [
              "('train.csv', <http.client.HTTPMessage at 0x7f1e38c8b690>)"
            ]
          },
          "metadata": {
            "tags": []
          },
          "execution_count": 1
        }
      ]
    },
    {
      "cell_type": "code",
      "metadata": {
        "id": "m9IcCN5YyvOj"
      },
      "source": [
        "import pandas as pd\n",
        "train = pd.read_csv(\"train.csv\",encoding = \"utf-8\")\n",
        "test = pd.read_csv(\"test.csv\",encoding = \"utf-8\")\n",
        "\n"
      ],
      "execution_count": null,
      "outputs": []
    },
    {
      "cell_type": "code",
      "metadata": {
        "id": "S0oLWZGSzIQ6"
      },
      "source": [
        "test"
      ],
      "execution_count": null,
      "outputs": []
    },
    {
      "cell_type": "code",
      "metadata": {
        "colab": {
          "base_uri": "https://localhost:8080/"
        },
        "id": "U6kGOSfizKok",
        "outputId": "910a1028-eb3e-46ab-d4ba-e2a4c9bb5400"
      },
      "source": [
        "# 分類：輸出要換成 0 1 2 3 代表結果\n",
        "# series: 拿出一行/一列\n",
        "# series.replace(字典)  \n",
        "# {\"李白\"：0，\"杜甫\"：1，\"白居易\"：2}\n",
        "\n",
        "# series.unique/series.value_counts\n",
        "\n",
        "u = train[\"作者\"].unique()  # 把\"作者\"歸納一下\n",
        "\n",
        "# 把str 轉成數字\n",
        "name2index = {n:i for i, n in enumerate(u)}\n",
        "index2name = {i:n for i, n in enumerate(u)}\n",
        "print(name2index)\n",
        "print(index2name)\n",
        "\n",
        "y_train = train[\"作者\"].replace(name2index)\n",
        "y_test = test[\"作者\"].replace(index2name)\n",
        "y_test\n",
        "\n",
        "\n",
        "# enumerate 把index 和內容一起拿出來 \n"
      ],
      "execution_count": 7,
      "outputs": [
        {
          "output_type": "stream",
          "text": [
            "{'李白': 0, '杜甫': 1, '白居易': 2}\n",
            "{0: '李白', 1: '杜甫', 2: '白居易'}\n"
          ],
          "name": "stdout"
        },
        {
          "output_type": "execute_result",
          "data": {
            "text/plain": [
              "0      李白\n",
              "1      李白\n",
              "2      李白\n",
              "3      李白\n",
              "4      李白\n",
              "5      李白\n",
              "6      李白\n",
              "7      李白\n",
              "8      李白\n",
              "9      李白\n",
              "10     杜甫\n",
              "11     杜甫\n",
              "12     杜甫\n",
              "13     杜甫\n",
              "14     杜甫\n",
              "15     杜甫\n",
              "16     杜甫\n",
              "17     杜甫\n",
              "18     杜甫\n",
              "19     杜甫\n",
              "20    白居易\n",
              "21    白居易\n",
              "22    白居易\n",
              "23    白居易\n",
              "24    白居易\n",
              "25    白居易\n",
              "26    白居易\n",
              "27    白居易\n",
              "28    白居易\n",
              "29    白居易\n",
              "Name: 作者, dtype: object"
            ]
          },
          "metadata": {
            "tags": []
          },
          "execution_count": 7
        }
      ]
    },
    {
      "cell_type": "code",
      "metadata": {
        "id": "_B7f-NG92PPh"
      },
      "source": [
        "# l = [\"a\",\"b\",\"c\"]\n",
        "# for c in l:\n",
        "#   print(c)\n",
        "\n",
        "\n",
        "# # 如果想要取得index，就用 enumerate\n",
        "\n",
        "# for i,c in enumerate(l):\n",
        "#   print(i,c)\n",
        "\n",
        "# name2index = {}\n",
        "# for i, n in enumerate(u):\n",
        "#   ###  還沒寫完"
      ],
      "execution_count": null,
      "outputs": []
    }
  ]
}