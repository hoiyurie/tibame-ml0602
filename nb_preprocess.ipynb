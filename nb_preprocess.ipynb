{
  "nbformat": 4,
  "nbformat_minor": 0,
  "metadata": {
    "colab": {
      "name": "nb_preprocess.ipynb",
      "provenance": [],
      "authorship_tag": "ABX9TyP2hWbnLTvCOpPr3OVHMVTC",
      "include_colab_link": true
    },
    "kernelspec": {
      "name": "python3",
      "display_name": "Python 3"
    },
    "language_info": {
      "name": "python"
    }
  },
  "cells": [
    {
      "cell_type": "markdown",
      "metadata": {
        "id": "view-in-github",
        "colab_type": "text"
      },
      "source": [
        "<a href=\"https://colab.research.google.com/github/hoiyurie/tibame-ml0602/blob/main/nb_preprocess.ipynb\" target=\"_parent\"><img src=\"https://colab.research.google.com/assets/colab-badge.svg\" alt=\"Open In Colab\"/></a>"
      ]
    },
    {
      "cell_type": "code",
      "metadata": {
        "id": "YoAKC5bAWqaz",
        "colab": {
          "base_uri": "https://localhost:8080/"
        },
        "outputId": "e31dc464-e843-4bf6-b18f-952c8a21540d"
      },
      "source": [
        "!pip install opencc-python-reimplemented"
      ],
      "execution_count": 1,
      "outputs": [
        {
          "output_type": "stream",
          "text": [
            "Collecting opencc-python-reimplemented\n",
            "\u001b[?25l  Downloading https://files.pythonhosted.org/packages/04/aa/02c5ffc87e2bf1da1f476d35aa4de69cad2cfc3140e37114755c454d1231/opencc-python-reimplemented-0.1.6.tar.gz (484kB)\n",
            "\r\u001b[K     |▊                               | 10kB 17.0MB/s eta 0:00:01\r\u001b[K     |█▍                              | 20kB 20.7MB/s eta 0:00:01\r\u001b[K     |██                              | 30kB 16.9MB/s eta 0:00:01\r\u001b[K     |██▊                             | 40kB 15.0MB/s eta 0:00:01\r\u001b[K     |███▍                            | 51kB 8.1MB/s eta 0:00:01\r\u001b[K     |████                            | 61kB 9.4MB/s eta 0:00:01\r\u001b[K     |████▊                           | 71kB 7.9MB/s eta 0:00:01\r\u001b[K     |█████▍                          | 81kB 8.7MB/s eta 0:00:01\r\u001b[K     |██████                          | 92kB 8.7MB/s eta 0:00:01\r\u001b[K     |██████▊                         | 102kB 7.7MB/s eta 0:00:01\r\u001b[K     |███████▍                        | 112kB 7.7MB/s eta 0:00:01\r\u001b[K     |████████▏                       | 122kB 7.7MB/s eta 0:00:01\r\u001b[K     |████████▉                       | 133kB 7.7MB/s eta 0:00:01\r\u001b[K     |█████████▌                      | 143kB 7.7MB/s eta 0:00:01\r\u001b[K     |██████████▏                     | 153kB 7.7MB/s eta 0:00:01\r\u001b[K     |██████████▉                     | 163kB 7.7MB/s eta 0:00:01\r\u001b[K     |███████████▌                    | 174kB 7.7MB/s eta 0:00:01\r\u001b[K     |████████████▏                   | 184kB 7.7MB/s eta 0:00:01\r\u001b[K     |████████████▉                   | 194kB 7.7MB/s eta 0:00:01\r\u001b[K     |█████████████▌                  | 204kB 7.7MB/s eta 0:00:01\r\u001b[K     |██████████████▏                 | 215kB 7.7MB/s eta 0:00:01\r\u001b[K     |██████████████▉                 | 225kB 7.7MB/s eta 0:00:01\r\u001b[K     |███████████████▌                | 235kB 7.7MB/s eta 0:00:01\r\u001b[K     |████████████████▎               | 245kB 7.7MB/s eta 0:00:01\r\u001b[K     |█████████████████               | 256kB 7.7MB/s eta 0:00:01\r\u001b[K     |█████████████████▋              | 266kB 7.7MB/s eta 0:00:01\r\u001b[K     |██████████████████▎             | 276kB 7.7MB/s eta 0:00:01\r\u001b[K     |███████████████████             | 286kB 7.7MB/s eta 0:00:01\r\u001b[K     |███████████████████▋            | 296kB 7.7MB/s eta 0:00:01\r\u001b[K     |████████████████████▎           | 307kB 7.7MB/s eta 0:00:01\r\u001b[K     |█████████████████████           | 317kB 7.7MB/s eta 0:00:01\r\u001b[K     |█████████████████████▋          | 327kB 7.7MB/s eta 0:00:01\r\u001b[K     |██████████████████████▎         | 337kB 7.7MB/s eta 0:00:01\r\u001b[K     |███████████████████████         | 348kB 7.7MB/s eta 0:00:01\r\u001b[K     |███████████████████████▊        | 358kB 7.7MB/s eta 0:00:01\r\u001b[K     |████████████████████████▍       | 368kB 7.7MB/s eta 0:00:01\r\u001b[K     |█████████████████████████       | 378kB 7.7MB/s eta 0:00:01\r\u001b[K     |█████████████████████████▊      | 389kB 7.7MB/s eta 0:00:01\r\u001b[K     |██████████████████████████▍     | 399kB 7.7MB/s eta 0:00:01\r\u001b[K     |███████████████████████████     | 409kB 7.7MB/s eta 0:00:01\r\u001b[K     |███████████████████████████▊    | 419kB 7.7MB/s eta 0:00:01\r\u001b[K     |████████████████████████████▍   | 430kB 7.7MB/s eta 0:00:01\r\u001b[K     |█████████████████████████████   | 440kB 7.7MB/s eta 0:00:01\r\u001b[K     |█████████████████████████████▊  | 450kB 7.7MB/s eta 0:00:01\r\u001b[K     |██████████████████████████████▍ | 460kB 7.7MB/s eta 0:00:01\r\u001b[K     |███████████████████████████████ | 471kB 7.7MB/s eta 0:00:01\r\u001b[K     |███████████████████████████████▉| 481kB 7.7MB/s eta 0:00:01\r\u001b[K     |████████████████████████████████| 491kB 7.7MB/s \n",
            "\u001b[?25hBuilding wheels for collected packages: opencc-python-reimplemented\n",
            "  Building wheel for opencc-python-reimplemented (setup.py) ... \u001b[?25l\u001b[?25hdone\n",
            "  Created wheel for opencc-python-reimplemented: filename=opencc_python_reimplemented-0.1.6-py2.py3-none-any.whl size=486151 sha256=5edd6655646ca2af9a2f20026b3119053ab20ac2e83093fdd502a05c04b13d26\n",
            "  Stored in directory: /root/.cache/pip/wheels/54/8a/0f/405db0ba3f02d9af8211422d3ae94c47b3296256f168ac1e68\n",
            "Successfully built opencc-python-reimplemented\n",
            "Installing collected packages: opencc-python-reimplemented\n",
            "Successfully installed opencc-python-reimplemented-0.1.6\n"
          ],
          "name": "stdout"
        }
      ]
    },
    {
      "cell_type": "code",
      "metadata": {
        "id": "ZYWonnrmtIH-"
      },
      "source": [
        "to_convert = \"\"\"训练词向量等一些任务的时候，往往需要一些较大规模的中文语料，而维基百科语料是一个很好的选择。维基百科每段时间都会备份数据，我们可以选择不同时间段的语料来下载使用。​\n",
        "\n",
        "1.下载维基百科语料\n",
        "下面就是维基百科的语料的下载地址：\"\"\""
      ],
      "execution_count": 2,
      "outputs": []
    },
    {
      "cell_type": "code",
      "metadata": {
        "colab": {
          "base_uri": "https://localhost:8080/",
          "height": 52
        },
        "id": "hu3aM54vtI5Q",
        "outputId": "d7e687dd-ce6d-42bb-9bac-1e70b7e007c8"
      },
      "source": [
        "from opencc import OpenCC\n",
        "cc = OpenCC('s2tw')\n",
        "converted = cc.convert(to_convert)\n",
        "converted"
      ],
      "execution_count": 3,
      "outputs": [
        {
          "output_type": "execute_result",
          "data": {
            "application/vnd.google.colaboratory.intrinsic+json": {
              "type": "string"
            },
            "text/plain": [
              "'訓練詞向量等一些任務的時候，往往需要一些較大規模的中文語料，而維基百科語料是一個很好的選擇。維基百科每段時間都會備份數據，我們可以選擇不同時間段的語料來下載使用。\\u200b\\n\\n1.下載維基百科語料\\n下面就是維基百科的語料的下載地址：'"
            ]
          },
          "metadata": {
            "tags": []
          },
          "execution_count": 3
        }
      ]
    },
    {
      "cell_type": "code",
      "metadata": {
        "id": "UUmBw5IIdm9j"
      },
      "source": [
        "with open(\"./news.txt\", \"r\", encoding=\"utf-8\") as f:\n",
        "    content = f.read()\n",
        "content"
      ],
      "execution_count": null,
      "outputs": []
    },
    {
      "cell_type": "code",
      "metadata": {
        "colab": {
          "base_uri": "https://localhost:8080/"
        },
        "id": "Brzt9lEegeSK",
        "outputId": "fafc5043-70a6-44d7-b36c-317ed89b55a0"
      },
      "source": [
        "import jieba.analyse\n",
        "\n",
        "# extract_tags 提取關鍵詞\n",
        "\n",
        "# topK:None (全部列出, 高到低)\n",
        "print(jieba.analyse.extract_tags(content))\n",
        "print(jieba.analyse.extract_tags(content, topK=5, allowPOS=[\"ns\", \"nr\"]))  # ns 地名 nr 人名"
      ],
      "execution_count": 6,
      "outputs": [
        {
          "output_type": "stream",
          "text": [
            "['克宏', '男子', '一巴掌', '暴力', '報導', '法國', '日訪', '回應', '兩名', '民眾', '襲擊', '攻擊', '不應', '討論', '做出', '整件事', '即時', '新聞', '綜合', '統馬克宏']\n",
            "['馬克宏', '法國', '德龍省', '扈見狀', '高喊']\n"
          ],
          "name": "stdout"
        }
      ]
    },
    {
      "cell_type": "code",
      "metadata": {
        "id": "kQlVbOC0owE9",
        "colab": {
          "base_uri": "https://localhost:8080/"
        },
        "outputId": "100c6036-2f92-4f7a-a833-4c0a574a33ce"
      },
      "source": [
        "import jieba\n",
        "from urllib.request import urlretrieve\n",
        "# 直接下載到colab裡\n",
        "url = \"https://github.com/fxsjy/jieba/raw/master/extra_dict/dict.txt.big\"\n",
        "urlretrieve(url, \"dict.txt.big\")    # url後面是 新建立的文件名"
      ],
      "execution_count": 7,
      "outputs": [
        {
          "output_type": "execute_result",
          "data": {
            "text/plain": [
              "('dict.txt.big', <http.client.HTTPMessage at 0x7f8ecc264990>)"
            ]
          },
          "metadata": {
            "tags": []
          },
          "execution_count": 7
        }
      ]
    },
    {
      "cell_type": "code",
      "metadata": {
        "id": "ZPNA43wOpILG"
      },
      "source": [
        "c = \" \".join(jieba.cut(content))\n",
        "print(c)\n",
        "print(\"-\" * 30)\n",
        "jieba.set_dictionary(\"dict.txt.big\")\n",
        "c = \" \".join(jieba.cut(content))\n",
        "print(c)"
      ],
      "execution_count": null,
      "outputs": []
    }
  ]
}