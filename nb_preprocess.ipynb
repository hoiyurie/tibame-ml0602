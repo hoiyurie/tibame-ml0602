{
  "nbformat": 4,
  "nbformat_minor": 0,
  "metadata": {
    "colab": {
      "name": "nb_preprocess.ipynb",
      "provenance": [],
      "collapsed_sections": [],
      "authorship_tag": "ABX9TyMMx4BNmYFhM/22gnnF1S1Z",
      "include_colab_link": true
    },
    "kernelspec": {
      "name": "python3",
      "display_name": "Python 3"
    },
    "language_info": {
      "name": "python"
    }
  },
  "cells": [
    {
      "cell_type": "markdown",
      "metadata": {
        "id": "view-in-github",
        "colab_type": "text"
      },
      "source": [
        "<a href=\"https://colab.research.google.com/github/hoiyurie/tibame-ml0602/blob/main/nb_preprocess.ipynb\" target=\"_parent\"><img src=\"https://colab.research.google.com/assets/colab-badge.svg\" alt=\"Open In Colab\"/></a>"
      ]
    },
    {
      "cell_type": "code",
      "metadata": {
        "id": "YoAKC5bAWqaz",
        "colab": {
          "base_uri": "https://localhost:8080/"
        },
        "outputId": "e31dc464-e843-4bf6-b18f-952c8a21540d"
      },
      "source": [
        "!pip install opencc-python-reimplemented"
      ],
      "execution_count": 1,
      "outputs": [
        {
          "output_type": "stream",
          "text": [
            "Collecting opencc-python-reimplemented\n",
            "\u001b[?25l  Downloading https://files.pythonhosted.org/packages/04/aa/02c5ffc87e2bf1da1f476d35aa4de69cad2cfc3140e37114755c454d1231/opencc-python-reimplemented-0.1.6.tar.gz (484kB)\n",
            "\r\u001b[K     |▊                               | 10kB 17.0MB/s eta 0:00:01\r\u001b[K     |█▍                              | 20kB 20.7MB/s eta 0:00:01\r\u001b[K     |██                              | 30kB 16.9MB/s eta 0:00:01\r\u001b[K     |██▊                             | 40kB 15.0MB/s eta 0:00:01\r\u001b[K     |███▍                            | 51kB 8.1MB/s eta 0:00:01\r\u001b[K     |████                            | 61kB 9.4MB/s eta 0:00:01\r\u001b[K     |████▊                           | 71kB 7.9MB/s eta 0:00:01\r\u001b[K     |█████▍                          | 81kB 8.7MB/s eta 0:00:01\r\u001b[K     |██████                          | 92kB 8.7MB/s eta 0:00:01\r\u001b[K     |██████▊                         | 102kB 7.7MB/s eta 0:00:01\r\u001b[K     |███████▍                        | 112kB 7.7MB/s eta 0:00:01\r\u001b[K     |████████▏                       | 122kB 7.7MB/s eta 0:00:01\r\u001b[K     |████████▉                       | 133kB 7.7MB/s eta 0:00:01\r\u001b[K     |█████████▌                      | 143kB 7.7MB/s eta 0:00:01\r\u001b[K     |██████████▏                     | 153kB 7.7MB/s eta 0:00:01\r\u001b[K     |██████████▉                     | 163kB 7.7MB/s eta 0:00:01\r\u001b[K     |███████████▌                    | 174kB 7.7MB/s eta 0:00:01\r\u001b[K     |████████████▏                   | 184kB 7.7MB/s eta 0:00:01\r\u001b[K     |████████████▉                   | 194kB 7.7MB/s eta 0:00:01\r\u001b[K     |█████████████▌                  | 204kB 7.7MB/s eta 0:00:01\r\u001b[K     |██████████████▏                 | 215kB 7.7MB/s eta 0:00:01\r\u001b[K     |██████████████▉                 | 225kB 7.7MB/s eta 0:00:01\r\u001b[K     |███████████████▌                | 235kB 7.7MB/s eta 0:00:01\r\u001b[K     |████████████████▎               | 245kB 7.7MB/s eta 0:00:01\r\u001b[K     |█████████████████               | 256kB 7.7MB/s eta 0:00:01\r\u001b[K     |█████████████████▋              | 266kB 7.7MB/s eta 0:00:01\r\u001b[K     |██████████████████▎             | 276kB 7.7MB/s eta 0:00:01\r\u001b[K     |███████████████████             | 286kB 7.7MB/s eta 0:00:01\r\u001b[K     |███████████████████▋            | 296kB 7.7MB/s eta 0:00:01\r\u001b[K     |████████████████████▎           | 307kB 7.7MB/s eta 0:00:01\r\u001b[K     |█████████████████████           | 317kB 7.7MB/s eta 0:00:01\r\u001b[K     |█████████████████████▋          | 327kB 7.7MB/s eta 0:00:01\r\u001b[K     |██████████████████████▎         | 337kB 7.7MB/s eta 0:00:01\r\u001b[K     |███████████████████████         | 348kB 7.7MB/s eta 0:00:01\r\u001b[K     |███████████████████████▊        | 358kB 7.7MB/s eta 0:00:01\r\u001b[K     |████████████████████████▍       | 368kB 7.7MB/s eta 0:00:01\r\u001b[K     |█████████████████████████       | 378kB 7.7MB/s eta 0:00:01\r\u001b[K     |█████████████████████████▊      | 389kB 7.7MB/s eta 0:00:01\r\u001b[K     |██████████████████████████▍     | 399kB 7.7MB/s eta 0:00:01\r\u001b[K     |███████████████████████████     | 409kB 7.7MB/s eta 0:00:01\r\u001b[K     |███████████████████████████▊    | 419kB 7.7MB/s eta 0:00:01\r\u001b[K     |████████████████████████████▍   | 430kB 7.7MB/s eta 0:00:01\r\u001b[K     |█████████████████████████████   | 440kB 7.7MB/s eta 0:00:01\r\u001b[K     |█████████████████████████████▊  | 450kB 7.7MB/s eta 0:00:01\r\u001b[K     |██████████████████████████████▍ | 460kB 7.7MB/s eta 0:00:01\r\u001b[K     |███████████████████████████████ | 471kB 7.7MB/s eta 0:00:01\r\u001b[K     |███████████████████████████████▉| 481kB 7.7MB/s eta 0:00:01\r\u001b[K     |████████████████████████████████| 491kB 7.7MB/s \n",
            "\u001b[?25hBuilding wheels for collected packages: opencc-python-reimplemented\n",
            "  Building wheel for opencc-python-reimplemented (setup.py) ... \u001b[?25l\u001b[?25hdone\n",
            "  Created wheel for opencc-python-reimplemented: filename=opencc_python_reimplemented-0.1.6-py2.py3-none-any.whl size=486151 sha256=5edd6655646ca2af9a2f20026b3119053ab20ac2e83093fdd502a05c04b13d26\n",
            "  Stored in directory: /root/.cache/pip/wheels/54/8a/0f/405db0ba3f02d9af8211422d3ae94c47b3296256f168ac1e68\n",
            "Successfully built opencc-python-reimplemented\n",
            "Installing collected packages: opencc-python-reimplemented\n",
            "Successfully installed opencc-python-reimplemented-0.1.6\n"
          ],
          "name": "stdout"
        }
      ]
    },
    {
      "cell_type": "code",
      "metadata": {
        "id": "ZYWonnrmtIH-"
      },
      "source": [
        "to_convert = \"\"\"训练词向量等一些任务的时候，往往需要一些较大规模的中文语料，而维基百科语料是一个很好的选择。维基百科每段时间都会备份数据，我们可以选择不同时间段的语料来下载使用。​\n",
        "\n",
        "1.下载维基百科语料\n",
        "下面就是维基百科的语料的下载地址：\"\"\""
      ],
      "execution_count": 2,
      "outputs": []
    },
    {
      "cell_type": "code",
      "metadata": {
        "colab": {
          "base_uri": "https://localhost:8080/",
          "height": 52
        },
        "id": "hu3aM54vtI5Q",
        "outputId": "d7e687dd-ce6d-42bb-9bac-1e70b7e007c8"
      },
      "source": [
        "# 簡體 轉繁體 \n",
        "\n",
        "\n",
        "from opencc import OpenCC\n",
        "cc = OpenCC('s2tw')\n",
        "converted = cc.convert(to_convert)\n",
        "converted"
      ],
      "execution_count": 3,
      "outputs": [
        {
          "output_type": "execute_result",
          "data": {
            "application/vnd.google.colaboratory.intrinsic+json": {
              "type": "string"
            },
            "text/plain": [
              "'訓練詞向量等一些任務的時候，往往需要一些較大規模的中文語料，而維基百科語料是一個很好的選擇。維基百科每段時間都會備份數據，我們可以選擇不同時間段的語料來下載使用。\\u200b\\n\\n1.下載維基百科語料\\n下面就是維基百科的語料的下載地址：'"
            ]
          },
          "metadata": {
            "tags": []
          },
          "execution_count": 3
        }
      ]
    },
    {
      "cell_type": "code",
      "metadata": {
        "id": "UUmBw5IIdm9j"
      },
      "source": [
        "# 讀取檔案，有with 就不用close\n",
        "\n",
        "with open(\"./news.txt\", \"r\", encoding=\"utf-8\") as f:\n",
        "    content = f.read()\n",
        "content"
      ],
      "execution_count": null,
      "outputs": []
    },
    {
      "cell_type": "code",
      "metadata": {
        "colab": {
          "base_uri": "https://localhost:8080/"
        },
        "id": "Brzt9lEegeSK",
        "outputId": "fafc5043-70a6-44d7-b36c-317ed89b55a0"
      },
      "source": [
        "\n",
        "# extract_tags 提取關鍵詞\n",
        "\n",
        "import jieba.analyse\n",
        "# topK:None (全部列出, 高到低)\n",
        "print(jieba.analyse.extract_tags(content))\n",
        "print(jieba.analyse.extract_tags(content, topK=5, allowPOS=[\"ns\", \"nr\"]))  # ns 地名 nr 人名"
      ],
      "execution_count": 6,
      "outputs": [
        {
          "output_type": "stream",
          "text": [
            "['克宏', '男子', '一巴掌', '暴力', '報導', '法國', '日訪', '回應', '兩名', '民眾', '襲擊', '攻擊', '不應', '討論', '做出', '整件事', '即時', '新聞', '綜合', '統馬克宏']\n",
            "['馬克宏', '法國', '德龍省', '扈見狀', '高喊']\n"
          ],
          "name": "stdout"
        }
      ]
    },
    {
      "cell_type": "code",
      "metadata": {
        "id": "kQlVbOC0owE9",
        "colab": {
          "base_uri": "https://localhost:8080/"
        },
        "outputId": "18c15b1e-f0f4-4aea-c325-5d790a136cdd"
      },
      "source": [
        "\n",
        "# 下載詞典\n",
        "\n",
        "import jieba\n",
        "from urllib.request import urlretrieve\n",
        "# 直接下載到colab裡\n",
        "url = \"https://github.com/fxsjy/jieba/raw/master/extra_dict/dict.txt.big\"\n",
        "urlretrieve(url, \"dict.txt.big\")    # url後面是 新建立的文件名"
      ],
      "execution_count": 8,
      "outputs": [
        {
          "output_type": "execute_result",
          "data": {
            "text/plain": [
              "('dict.txt.big', <http.client.HTTPMessage at 0x7f8ecbe0e310>)"
            ]
          },
          "metadata": {
            "tags": []
          },
          "execution_count": 8
        }
      ]
    },
    {
      "cell_type": "code",
      "metadata": {
        "id": "ZPNA43wOpILG",
        "colab": {
          "base_uri": "https://localhost:8080/"
        },
        "outputId": "b8d02ccd-7982-478b-b479-607bd2898418"
      },
      "source": [
        "# 設置使用的詞典 dict.txt.big\n",
        "\n",
        "c = \" \".join(jieba.cut(content))\n",
        "print(c)\n",
        "print(\"-\" * 30)\n",
        "jieba.set_dictionary(\"dict.txt.big\")\n",
        "c = \" \".join(jieba.cut(content))\n",
        "print(c)"
      ],
      "execution_count": 9,
      "outputs": [
        {
          "output_type": "stream",
          "text": [
            "Building prefix dict from /content/dict.txt.big ...\n"
          ],
          "name": "stderr"
        },
        {
          "output_type": "stream",
          "text": [
            "〔 即時 新聞 ／ 綜合 報導 〕 法國 總 統馬克宏 （ Emmanuel   Macron ） 8 日訪 問法 國東 南部 德龍省 （ Dr ô me ） 時 ， 竟然 遭人 甩 了 一巴掌 ， 畫面 一出 震撼 整個 法國 ， 對 此馬克宏 做出 回應 ， 兩名 涉案 男子 則面 臨 3 年 監禁 以及 5 萬 美元 （ 約 台幣 138 萬元 ） 的 罰 金 。 \n",
            " 綜合外 媒報導 ， 馬 克宏 8 日訪 問德龍省 ， 在 向 圍欄 外 的 民眾 打招呼 時 ， 被 一名 男子 甩 了 一巴掌 ， 過程 全 被 一旁 民眾 拍下 ， 當時 該名 男子 突然 高喊 「 打倒 馬 克宏 」 （ A   Bas   La   Macronie ） ， 隨後甩 了 馬 克宏 一巴掌 ， 隨扈 見 狀 立刻 上前 攔住 男子 。 \n",
            " 報導 指出 ， 有 兩名 28 歲 男子 於 當日 下午 被 警方 依 暴力 襲擊 公職 人員 罪行 逮捕 ， 馬 克宏 最大 的 政治 對手 ， 極 右派 的 瑪琳 · 勒朋 （ Marine   Le   Pen ） 也 對 攻擊 事件 做出 抨擊 ， 認為 襲擊 總統 是 讓 人 完全 無法 接受 的 ， 「 我們 可以 在 政治 上攻 擊他 ， 但 在 民主 之下 ， 任何 對 他 的 暴力 行為 都 應 受到 譴責 」 。 \n",
            " 被 攻擊 的 幾個 小時 後 ， 馬 克宏 在 接受 當地 報紙訪 問時 做出 回應 ， 他 淡化 整件事 ， 稱 「 一切 都 沒事 」 ， 並認 為 這是 單一 事件 ， 「 不應 讓 這件 事 佔 據 其他 更 重要 議題 的 討論 空間 」 ， 馬 克宏說 ， 一個 國家 不應 該 讓 少數 的 暴力 份子 成為 公眾 討論 的 焦點 ， 「 他們 並不 值得 」 ， 他 也 強調 ， 這起 意外 不會 阻止 他 接觸 大眾 。 \n",
            "\n",
            "------------------------------\n"
          ],
          "name": "stdout"
        },
        {
          "output_type": "stream",
          "text": [
            "Dumping model to file cache /tmp/jieba.u501edca284da514cb68b53a20324f4e3.cache\n",
            "Loading model cost 1.485 seconds.\n",
            "Prefix dict has been built successfully.\n"
          ],
          "name": "stderr"
        },
        {
          "output_type": "stream",
          "text": [
            "〔 即時新聞 ／ 綜合 報導 〕 法國 總統 馬克 宏 （ Emmanuel   Macron ） 8 日 訪問 法國 東南部 德龍省 （ Dr ô me ） 時 ， 竟然 遭人 甩 了 一巴掌 ， 畫面 一出 震撼 整個 法國 ， 對此 馬克 宏 做出 回應 ， 兩名 涉案 男子 則 面臨 3 年 監禁 以及 5 萬美元 （ 約 台幣 138 萬元 ） 的 罰金 。 \n",
            " 綜合 外媒 報導 ， 馬克 宏 8 日 訪問 德龍省 ， 在 向 圍欄 外 的 民眾 打招呼 時 ， 被 一名 男子 甩 了 一巴掌 ， 過程 全 被 一旁 民眾 拍下 ， 當時 該名 男子 突然 高喊 「 打倒 馬克 宏 」 （ A   Bas   La   Macronie ） ， 隨後 甩 了 馬克 宏 一巴掌 ， 隨扈 見狀 立刻 上前 攔住 男子 。 \n",
            " 報導 指出 ， 有 兩名 28 歲 男子 於 當日 下午 被 警方 依 暴力 襲擊 公職人員 罪行 逮捕 ， 馬克 宏 最大 的 政治 對手 ， 極右派 的 瑪琳 · 勒朋 （ Marine   Le   Pen ） 也 對 攻擊 事件 做出 抨擊 ， 認為 襲擊 總統 是 讓 人 完全 無法 接受 的 ， 「 我們 可以 在政治上 攻擊 他 ， 但 在 民主 之下 ， 任何 對 他 的 暴力 行為 都 應 受到譴責 」 。 \n",
            " 被 攻擊 的 幾個 小時 後 ， 馬克 宏在 接受 當地 報紙 訪問 時 做出 回應 ， 他 淡化 整件事 ， 稱 「 一切 都 沒事 」 ， 並認 為 這是 單一 事件 ， 「 不應 讓 這件 事 佔據 其他 更 重要 議題 的 討論 空間 」 ， 馬克 宏說 ， 一個 國家 不 應該 讓 少數 的 暴力 份子 成為 公眾 討論 的 焦點 ， 「 他們 並不 值得 」 ， 他 也 強調 ， 這起 意外 不會 阻止 他 接觸 大眾 。 \n",
            "\n"
          ],
          "name": "stdout"
        }
      ]
    },
    {
      "cell_type": "code",
      "metadata": {
        "id": "b-R6-Ezmq9N0",
        "colab": {
          "base_uri": "https://localhost:8080/"
        },
        "outputId": "11e87b6d-b005-4a27-cc35-6813e2aea4e2"
      },
      "source": [
        "# 因為詞典中有些詞沒有添加進去，\n",
        "#手動添加  jieba.load_userdict（\"新詞彙詞典\"）\n",
        "\n",
        "\n",
        "jieba.load_userdict(\"mydict.txt\")\n",
        "c = \" \".join(jieba.cut(content))  \n",
        "print(c)"
      ],
      "execution_count": 12,
      "outputs": [
        {
          "output_type": "stream",
          "text": [
            "〔 即時新聞 ／ 綜合 報導 〕 法國 總統 馬克 宏 （ Emmanuel   Macron ） 8 日 訪問 法國 東南部 德龍省 （ Dr ô me ） 時 ， 竟然 遭人 甩 了 一巴掌 ， 畫面 一出 震撼 整個 法國 ， 對此 馬克 宏 做出 回應 ， 兩名 涉案 男子 則 面臨 3 年 監禁 以及 5 萬美元 （ 約 台幣 138 萬元 ） 的 罰金 。 \n",
            " 綜合 外媒 報導 ， 馬克 宏 8 日 訪問 德龍省 ， 在 向 圍欄 外 的 民眾 打招呼 時 ， 被 一名 男子 甩 了 一巴掌 ， 過程 全 被 一旁 民眾 拍下 ， 當時 該名 男子 突然 高喊 「 打倒 馬克 宏 」 （ A   Bas   La   Macronie ） ， 隨後 甩 了 馬克 宏 一巴掌 ， 隨扈 見狀 立刻 上前 攔住 男子 。 \n",
            " 報導 指出 ， 有 兩名 28 歲 男子 於 當日 下午 被 警方 依 暴力 襲擊 公職人員 罪行 逮捕 ， 馬克 宏 最大 的 政治 對手 ， 極右派 的 瑪琳 · 勒朋 （ Marine   Le   Pen ） 也 對 攻擊 事件 做出 抨擊 ， 認為 襲擊 總統 是 讓 人 完全 無法 接受 的 ， 「 我們 可以 在政治上 攻擊 他 ， 但 在 民主 之下 ， 任何 對 他 的 暴力 行為 都 應 受到譴責 」 。 \n",
            " 被 攻擊 的 幾個 小時 後 ， 馬克 宏在 接受 當地 報紙 訪問 時 做出 回應 ， 他 淡化 整件事 ， 稱 「 一切 都 沒事 」 ， 並認 為 這是 單一 事件 ， 「 不應 讓 這件 事 佔據 其他 更 重要 議題 的 討論 空間 」 ， 馬克 宏說 ， 一個 國家 不 應該 讓 少數 的 暴力 份子 成為 公眾 討論 的 焦點 ， 「 他們 並不 值得 」 ， 他 也 強調 ， 這起 意外 不會 阻止 他 接觸 大眾 。 \n",
            "\n"
          ],
          "name": "stdout"
        }
      ]
    },
    {
      "cell_type": "code",
      "metadata": {
        "colab": {
          "base_uri": "https://localhost:8080/"
        },
        "id": "fvv8iQujrM7x",
        "outputId": "d434c25f-c83e-48bb-c7ba-913e7844ce61"
      },
      "source": [
        "# 重新對文章提取關鍵詞\n",
        "\n",
        "print(jieba.analyse.extract_tags(content))"
      ],
      "execution_count": 11,
      "outputs": [
        {
          "output_type": "stream",
          "text": [
            "['馬克', '報導', '法國', '訪問', '攻擊', '男子', '一巴掌', '暴力', '綜合', '總統', '德龍省', '回應', '兩名', '民眾', '襲擊', '討論', '做出', '整件事', '即時新聞', 'Emmanuel']\n"
          ],
          "name": "stdout"
        }
      ]
    }
  ]
}