{
  "nbformat": 4,
  "nbformat_minor": 0,
  "metadata": {
    "colab": {
      "name": "func.ipynb",
      "provenance": [],
      "authorship_tag": "ABX9TyNiE8a2iaoaRNau9EjUocTG",
      "include_colab_link": true
    },
    "kernelspec": {
      "name": "python3",
      "display_name": "Python 3"
    },
    "language_info": {
      "name": "python"
    }
  },
  "cells": [
    {
      "cell_type": "markdown",
      "metadata": {
        "id": "view-in-github",
        "colab_type": "text"
      },
      "source": [
        "<a href=\"https://colab.research.google.com/github/hoiyurie/tibame-ml0602/blob/main/func.ipynb\" target=\"_parent\"><img src=\"https://colab.research.google.com/assets/colab-badge.svg\" alt=\"Open In Colab\"/></a>"
      ]
    },
    {
      "cell_type": "code",
      "metadata": {
        "id": "MFHXosWG31oS"
      },
      "source": [
        "int(4.5)\n",
        "# python:所有東西皆為物件 --> 所有東西都有資料型態\n",
        "# 函式：int --> 步驟資料(SOP)  (4.5)：執行並且帶入參數\n",
        "# a + b: a.__add__(b)\n",
        "a = int\n",
        "a(5.5)\n",
        "def test():\n",
        "  return int\n",
        "\n",
        "test()(7.5)\n",
        "\n",
        "# 沒加（）步驟資料\n",
        "# 加了（）執行\n"
      ],
      "execution_count": null,
      "outputs": []
    },
    {
      "cell_type": "code",
      "metadata": {
        "colab": {
          "base_uri": "https://localhost:8080/"
        },
        "id": "UHVdodm86PQF",
        "outputId": "c4d311b9-834b-4c6a-dae5-bac1cf23da27"
      },
      "source": [
        "class Person:\n",
        "  def __init__(self,h,w):\n",
        "    self.h=h\n",
        "    self.w=w\n",
        "\n",
        "b = Person\n",
        "p1 = b(175,75)\n",
        "p1.h"
      ],
      "execution_count": 1,
      "outputs": [
        {
          "output_type": "execute_result",
          "data": {
            "text/plain": [
              "175"
            ]
          },
          "metadata": {
            "tags": []
          },
          "execution_count": 1
        }
      ]
    },
    {
      "cell_type": "code",
      "metadata": {
        "colab": {
          "base_uri": "https://localhost:8080/"
        },
        "id": "OOSic6Mh6p6Q",
        "outputId": "49553e49-2727-4bfb-9e21-3de3bdcd8719"
      },
      "source": [
        "import random\n",
        "print(type(random.randint)) # <class 'method'>\n",
        "print(type(Person)) # <class 'type'>\n",
        "print(type(None))"
      ],
      "execution_count": 4,
      "outputs": [
        {
          "output_type": "stream",
          "text": [
            "<class 'method'>\n",
            "<class 'type'>\n",
            "<class 'NoneType'>\n"
          ],
          "name": "stdout"
        }
      ]
    }
  ]
}