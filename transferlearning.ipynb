{
  "nbformat": 4,
  "nbformat_minor": 0,
  "metadata": {
    "colab": {
      "name": "transferlearning.ipynb",
      "provenance": [],
      "mount_file_id": "1_4Fo9AzJB4L5qN7Q8ha8dtQJ2aqQXW2g",
      "authorship_tag": "ABX9TyN3Ou9sqv0/nvYjIL55QeYW",
      "include_colab_link": true
    },
    "kernelspec": {
      "name": "python3",
      "display_name": "Python 3"
    },
    "language_info": {
      "name": "python"
    },
    "accelerator": "GPU"
  },
  "cells": [
    {
      "cell_type": "markdown",
      "metadata": {
        "id": "view-in-github",
        "colab_type": "text"
      },
      "source": [
        "<a href=\"https://colab.research.google.com/github/hoiyurie/tibame-ml0602/blob/main/transferlearning.ipynb\" target=\"_parent\"><img src=\"https://colab.research.google.com/assets/colab-badge.svg\" alt=\"Open In Colab\"/></a>"
      ]
    },
    {
      "cell_type": "code",
      "metadata": {
        "id": "nPj_QWcoChI3"
      },
      "source": [
        "import zipfile\n",
        "fn = \"/content/drive/MyDrive/train.zip\"\n",
        "zf = zipfile.ZipFile(fn)\n",
        "zf.extractall() # 解壓縮到colab配置的機器裡，不要解壓縮到自己的drive裡\n",
        "\n",
        "# 多出來的train的資料夾就是image data\n"
      ],
      "execution_count": 1,
      "outputs": []
    }
  ]
}